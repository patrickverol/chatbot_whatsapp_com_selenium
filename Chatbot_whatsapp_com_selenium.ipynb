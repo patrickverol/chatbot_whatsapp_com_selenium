{
 "cells": [
  {
   "cell_type": "code",
   "execution_count": 1,
   "id": "7c117c63",
   "metadata": {},
   "outputs": [],
   "source": [
    "# Importando as bibliotecas\n",
    "import pandas as pd\n",
    "import time\n",
    "import numpy as np\n",
    "import math\n",
    "from tqdm.notebook import tqdm_notebook\n",
    "import datetime\n",
    "from datetime import date\n",
    "import os\n",
    "import shutil\n",
    "from emailer import send_email, send_email_with_attachment\n",
    "from zipfile import ZipFile\n",
    "import re\n",
    "from tika import parser\n",
    "\n",
    "import warnings\n",
    "warnings.filterwarnings(\"ignore\")"
   ]
  },
  {
   "cell_type": "code",
   "execution_count": 2,
   "id": "3aea5d27",
   "metadata": {},
   "outputs": [],
   "source": [
    "# importação de bibliotecas\n",
    "\n",
    "# Biblotecas para importar o ChromeDriver e verificar a versão\n",
    "from selenium import webdriver\n",
    "from selenium.webdriver.chrome.service import Service\n",
    "from webdriver_manager.chrome import ChromeDriverManager\n",
    "\n",
    "# Bibliotecas para utilizar os comandos Keys e By\n",
    "from selenium.webdriver.common.keys import Keys\n",
    "from selenium.webdriver.common.by import By\n",
    "from selenium.webdriver import ActionChains\n",
    "from selenium.webdriver.support import expected_conditions as EC\n",
    "from selenium.webdriver.support.wait import WebDriverWait"
   ]
  },
  {
   "cell_type": "code",
   "execution_count": 3,
   "id": "0166da9d",
   "metadata": {},
   "outputs": [],
   "source": [
    "# Pegando o caminho do diretório\n",
    "path = 'C:\\\\Users\\\\pWX1210581\\\\Documents\\\\28. Reversa\\\\09. Sites reemissão'\n",
    "#df_meta = pd.read_excel(os.path.join(path, 'Status_Reversa_Meta.xlsx'),\n",
    "#                        sheet_name = 'Buscar_Netflow')"
   ]
  },
  {
   "cell_type": "code",
   "execution_count": 4,
   "id": "82bd3029",
   "metadata": {},
   "outputs": [],
   "source": [
    "class zapbot:\n",
    "    # O local de execução do nosso script\n",
    "    dir_path = 'C:\\\\Users\\\\pWX1210581\\\\Documents\\\\28. Reversa\\\\09. Sites reemissão'\n",
    "    # O caminho do chromedriver\n",
    "    chromedriver = os.path.join(os.getcwd(), \"chromedriver.exe\")\n",
    "    # Caminho onde será criada pasta profile\n",
    "    profile = os.path.join(dir_path, \"wpp\")\n",
    "    def __init__(self):\n",
    "        self.options = webdriver.ChromeOptions()\n",
    "        # Configurando a pasta profile, para mantermos os dados da seção\n",
    "        self.options.add_argument(\n",
    "            r\"user-data-dir={}\".format(self.profile))\n",
    "        # Inicializa o webdriver\n",
    "        self.driver = webdriver.Chrome(options=self.options)\n",
    "        # Abre o whatsappweb\n",
    "        self.driver.get(\"https://web.whatsapp.com/\")\n",
    "        # Aguarda alguns segundos para validação manual do QrCode\n",
    "        self.driver.implicitly_wait(30)\n",
    "    \n",
    "    def abre_conversa(self, contato):\n",
    "        \"\"\" Abre a conversa com um contato especifico \"\"\"\n",
    "        try:\n",
    "            # Seleciona a caixa de pesquisa de conversa\n",
    "            self.caixa_de_pesquisa = self.driver.find_element(By.CLASS_NAME, 'copyable-text')\n",
    "            # Digita o nome ou numero do contato\n",
    "            self.caixa_de_pesquisa.send_keys(contato)\n",
    "            time.sleep(2)\n",
    "            # Seleciona o contato\n",
    "            self.contato = self.driver.find_element(By.XPATH, \"//span[@title = '{}']\".format(contato))\n",
    "            # Entra na conversa\n",
    "            self.contato.click()\n",
    "        except Exception as e:\n",
    "            raise e\n",
    "    \n",
    "    def envia_msg(self, msg):\n",
    "        \"\"\" Envia uma mensagem para a conversa aberta \"\"\"\n",
    "        try:\n",
    "            time.sleep(2)\n",
    "            # Seleciona acaixa de mensagem, Digita a mensagem\n",
    "            self.driver.find_element(By.XPATH, '//*[@title=\"Digite uma mensagem\"]').send_keys(msg)\n",
    "            time.sleep(1)\n",
    "            # Seleciona botão enviar\n",
    "            self.botao_enviar = self.driver.find_element(By.CLASS_NAME, '_3XKXx')\n",
    "            # Envia msg\n",
    "            self.botao_enviar.click()\n",
    "            time.sleep(2)\n",
    "        except Exception as e:\n",
    "            print(\"Erro ao enviar msg\", e)\n",
    "        \n",
    "    def envia_media(self, fileToSend):\n",
    "        # Envia media\n",
    "        try:\n",
    "            # Clica no botão adicionar\n",
    "            #self.driver.find_element(By.XPATH, '//*[@title=\"Anexar\"]').click()\n",
    "            #time.sleep(1)\n",
    "            #self.driver.find_element(By.XPATH, \"//span[text()='Fotos e vídeos']\").click()\n",
    "            # Seleciona input\n",
    "            attach = self.driver.find_element(By.CSS_SELECTOR, \"input[type='file']\")\n",
    "            # Adiciona arquivo\n",
    "            attach.send_keys(fileToSend)\n",
    "            time.sleep(3)\n",
    "            \n",
    "            # Seleciona botão enviar\n",
    "            send = self.driver.find_element(By.XPATH, \"//span[@data-icon='send']\")\n",
    "            # Clica no botão enviar\n",
    "            send.click()\n",
    "        except Exception as e:\n",
    "            print(\"Erro ao enviar media\", e)\n",
    "    \n",
    "    def ultima_msg(self):\n",
    "        \"\"\" Captura a ultima mensagem da conversa \"\"\"\n",
    "        try:\n",
    "            post = self.driver.find_elements(By.CLASS_NAME, '_21Ahp')\n",
    "            ultimo = len(post) - 1\n",
    "            # O texto da ultima mensagem\n",
    "            texto = post[ultimo].find_element(By.CSS_SELECTOR, \"span.selectable-text\").text\n",
    "            return texto\n",
    "        except Exception as e:\n",
    "            print(\"Erro ao ler msg, tentando novamente!\")"
   ]
  },
  {
   "cell_type": "code",
   "execution_count": null,
   "id": "791aedc4",
   "metadata": {},
   "outputs": [],
   "source": [
    "if __name__ == '__main__':\n",
    "    bot = zapbot()  # Inicia o objeto zapbot\n",
    "    bot.abre_conversa(\"Leo de Dragao\")  # Passando o numero ou o nome do contato\n",
    "    bot.envia_msg(\"Olá, sou o bot whatsapp! Para receber ajuda digite: /help\")\n",
    "    imagem = bot.dir_path + \"\\\\imagem.jpg\"  # Passando o caminho da imagem que será enviada\n",
    "    msg = \"\"  # Criando a variável msg\n",
    "    while msg != \"/quit\":\n",
    "        time.sleep(1)\n",
    "        msg = bot.ultima_msg()  # A cada loop recebe a ultima mensagem da conversa\n",
    "        if msg == \"/help\":  # Retorna uma mensagem de ajuda\n",
    "            bot.envia_msg(\"\"\"Bot: Esse é um texto com os comandos válidos:\n",
    "                /help (para ajuda)\n",
    "                /mais (para saber mais)\n",
    "                /quit (para sair)\n",
    "                \"\"\")\n",
    "        elif msg == \"/mais\":  # Retorna a imagem que selecionamos\n",
    "            bot.envia_media(imagem)\n",
    "        elif msg == \"/quit\":  # Encerra o programa\n",
    "            bot.envia_msg(\"Bye bye!\")"
   ]
  },
  {
   "cell_type": "code",
   "execution_count": null,
   "id": "bb1d10b2",
   "metadata": {},
   "outputs": [],
   "source": []
  },
  {
   "cell_type": "code",
   "execution_count": null,
   "id": "8973781a",
   "metadata": {},
   "outputs": [],
   "source": [
    "driver = webdriver.Chrome()\n",
    "driver.get('https://web.whatsapp.com/')"
   ]
  },
  {
   "cell_type": "code",
   "execution_count": null,
   "id": "4134a67e",
   "metadata": {},
   "outputs": [],
   "source": [
    "time.sleep(1)\n",
    "driver.find_element(By.CLASS_NAME, 'copyable-text').click()"
   ]
  },
  {
   "cell_type": "code",
   "execution_count": null,
   "id": "5b260dd9",
   "metadata": {},
   "outputs": [],
   "source": [
    "time.sleep(2)\n",
    "driver.find_element(By.XPATH, '//*[@title=\"Digite uma mensagem\"]').click()"
   ]
  },
  {
   "cell_type": "code",
   "execution_count": null,
   "id": "e87de173",
   "metadata": {},
   "outputs": [],
   "source": [
    "time.sleep(1)\n",
    "driver.find_element(By.CLASS_NAME, '_3XKXx').click()"
   ]
  },
  {
   "cell_type": "code",
   "execution_count": null,
   "id": "1147a44a",
   "metadata": {},
   "outputs": [],
   "source": [
    "time.sleep(1)\n",
    "driver.find_elements(By.CLASS_NAME, '_21Ahp')[-1].text"
   ]
  },
  {
   "cell_type": "code",
   "execution_count": null,
   "id": "f6bab506",
   "metadata": {},
   "outputs": [],
   "source": [
    "time.sleep(1)\n",
    "driver.find_element(By.XPATH, '//*[@title=\"Anexar\"]').click()"
   ]
  },
  {
   "cell_type": "code",
   "execution_count": null,
   "id": "6f6fe9fa",
   "metadata": {},
   "outputs": [],
   "source": [
    "time.sleep(1)\n",
    "elements = driver.find_elements(By.CLASS_NAME, '_2UNQo')\n",
    "for element in elements:\n",
    "    print(element.text)"
   ]
  },
  {
   "cell_type": "code",
   "execution_count": null,
   "id": "7ed43ad9",
   "metadata": {},
   "outputs": [],
   "source": [
    "time.sleep(1)\n",
    "driver.find_element(By.XPATH, \"//span[text()='Fotos e vídeos']\").click()"
   ]
  }
 ],
 "metadata": {
  "kernelspec": {
   "display_name": "Python 3 (ipykernel)",
   "language": "python",
   "name": "python3"
  },
  "language_info": {
   "codemirror_mode": {
    "name": "ipython",
    "version": 3
   },
   "file_extension": ".py",
   "mimetype": "text/x-python",
   "name": "python",
   "nbconvert_exporter": "python",
   "pygments_lexer": "ipython3",
   "version": "3.10.9"
  }
 },
 "nbformat": 4,
 "nbformat_minor": 5
}
